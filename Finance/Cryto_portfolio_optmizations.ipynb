{
 "cells": [
  {
   "cell_type": "code",
   "execution_count": 1,
   "metadata": {
    "colab": {},
    "colab_type": "code",
    "id": "HmQsz2-hBD5F"
   },
   "outputs": [
    {
     "name": "stdout",
     "output_type": "stream",
     "text": [
      "Requirement already satisfied: pandas_datareader in c:\\users\\home\\anaconda3\\lib\\site-packages (0.9.0)\n",
      "Requirement already satisfied: pandas>=0.23 in c:\\users\\home\\anaconda3\\lib\\site-packages (from pandas_datareader) (1.1.3)\n",
      "Requirement already satisfied: lxml in c:\\users\\home\\anaconda3\\lib\\site-packages (from pandas_datareader) (4.6.1)\n",
      "Requirement already satisfied: requests>=2.19.0 in c:\\users\\home\\anaconda3\\lib\\site-packages (from pandas_datareader) (2.24.0)\n",
      "Requirement already satisfied: numpy>=1.15.4 in c:\\users\\home\\anaconda3\\lib\\site-packages (from pandas>=0.23->pandas_datareader) (1.19.2)\n",
      "Requirement already satisfied: pytz>=2017.2 in c:\\users\\home\\anaconda3\\lib\\site-packages (from pandas>=0.23->pandas_datareader) (2020.1)\n",
      "Requirement already satisfied: python-dateutil>=2.7.3 in c:\\users\\home\\anaconda3\\lib\\site-packages (from pandas>=0.23->pandas_datareader) (2.8.1)\n",
      "Requirement already satisfied: urllib3!=1.25.0,!=1.25.1,<1.26,>=1.21.1 in c:\\users\\home\\anaconda3\\lib\\site-packages (from requests>=2.19.0->pandas_datareader) (1.25.11)\n",
      "Requirement already satisfied: idna<3,>=2.5 in c:\\users\\home\\anaconda3\\lib\\site-packages (from requests>=2.19.0->pandas_datareader) (2.10)\n",
      "Requirement already satisfied: chardet<4,>=3.0.2 in c:\\users\\home\\anaconda3\\lib\\site-packages (from requests>=2.19.0->pandas_datareader) (3.0.4)\n",
      "Requirement already satisfied: certifi>=2017.4.17 in c:\\users\\home\\anaconda3\\lib\\site-packages (from requests>=2.19.0->pandas_datareader) (2020.6.20)\n",
      "Requirement already satisfied: six>=1.5 in c:\\users\\home\\anaconda3\\lib\\site-packages (from python-dateutil>=2.7.3->pandas>=0.23->pandas_datareader) (1.15.0)\n"
     ]
    }
   ],
   "source": [
    "import numpy as np\n",
    "import pandas as pd\n",
    "import matplotlib.pyplot as plt\n",
    "%matplotlib inline\n",
    "!pip install pandas_datareader\n",
    "import pandas_datareader.data as web"
   ]
  },
  {
   "cell_type": "code",
   "execution_count": 2,
   "metadata": {
    "colab": {},
    "colab_type": "code",
    "id": "AOUlsHPxBSvl"
   },
   "outputs": [],
   "source": [
    "# data de inicio e fim, com contagem dos dias no ano\n",
    "start= pd.to_datetime('2018-05-01')\n",
    "end= pd.to_datetime('2020-12-27')\n",
    "days=365 #melhorar a contagem para days=len(pd.date_range(start=startdt,end=enddt,freq='D'))"
   ]
  },
  {
   "cell_type": "code",
   "execution_count": 3,
   "metadata": {
    "colab": {},
    "colab_type": "code",
    "id": "5OXvN9ozBlG9"
   },
   "outputs": [],
   "source": [
    "#automatizar o processo, criar uma lista de colunas, aumentar o numero de ativos\n",
    "btc = web.DataReader('BTC-USD','yahoo',start, end)\n",
    "eth = web.DataReader('ETH-USD','yahoo',start, end)\n",
    "ltc = web.DataReader('LTC-USD','yahoo',start, end)\n",
    "dash = web.DataReader('DASH-USD','yahoo',start, end)"
   ]
  },
  {
   "cell_type": "code",
   "execution_count": 4,
   "metadata": {
    "colab": {},
    "colab_type": "code",
    "id": "6PG_iZCkq69s"
   },
   "outputs": [],
   "source": [
    "#se aumentar o numero de ativos, automatizar para .count\n",
    "number_sec = 4"
   ]
  },
  {
   "cell_type": "code",
   "execution_count": 5,
   "metadata": {
    "colab": {
     "base_uri": "https://localhost:8080/",
     "height": 235
    },
    "colab_type": "code",
    "executionInfo": {
     "elapsed": 5609,
     "status": "ok",
     "timestamp": 1590625628891,
     "user": {
      "displayName": "Danilo Ribeiro de Lima",
      "photoUrl": "",
      "userId": "05842338070953503285"
     },
     "user_tz": 180
    },
    "id": "TK-QFDh-B5gR",
    "outputId": "7f614cc5-3938-4525-8fae-7c64798549bd"
   },
   "outputs": [
    {
     "data": {
      "text/html": [
       "<div>\n",
       "<style scoped>\n",
       "    .dataframe tbody tr th:only-of-type {\n",
       "        vertical-align: middle;\n",
       "    }\n",
       "\n",
       "    .dataframe tbody tr th {\n",
       "        vertical-align: top;\n",
       "    }\n",
       "\n",
       "    .dataframe thead th {\n",
       "        text-align: right;\n",
       "    }\n",
       "</style>\n",
       "<table border=\"1\" class=\"dataframe\">\n",
       "  <thead>\n",
       "    <tr style=\"text-align: right;\">\n",
       "      <th></th>\n",
       "      <th>High</th>\n",
       "      <th>Low</th>\n",
       "      <th>Open</th>\n",
       "      <th>Close</th>\n",
       "      <th>Volume</th>\n",
       "      <th>Adj Close</th>\n",
       "    </tr>\n",
       "    <tr>\n",
       "      <th>Date</th>\n",
       "      <th></th>\n",
       "      <th></th>\n",
       "      <th></th>\n",
       "      <th></th>\n",
       "      <th></th>\n",
       "      <th></th>\n",
       "    </tr>\n",
       "  </thead>\n",
       "  <tbody>\n",
       "    <tr>\n",
       "      <th>2018-04-30</th>\n",
       "      <td>9255.879883</td>\n",
       "      <td>8891.049805</td>\n",
       "      <td>9251.469727</td>\n",
       "      <td>9119.009766</td>\n",
       "      <td>7713019904</td>\n",
       "      <td>9119.009766</td>\n",
       "    </tr>\n",
       "    <tr>\n",
       "      <th>2018-05-01</th>\n",
       "      <td>9256.519531</td>\n",
       "      <td>9015.139648</td>\n",
       "      <td>9104.599609</td>\n",
       "      <td>9235.919922</td>\n",
       "      <td>7558159872</td>\n",
       "      <td>9235.919922</td>\n",
       "    </tr>\n",
       "    <tr>\n",
       "      <th>2018-05-02</th>\n",
       "      <td>9798.330078</td>\n",
       "      <td>9188.150391</td>\n",
       "      <td>9233.969727</td>\n",
       "      <td>9743.860352</td>\n",
       "      <td>10207299584</td>\n",
       "      <td>9743.860352</td>\n",
       "    </tr>\n",
       "    <tr>\n",
       "      <th>2018-05-03</th>\n",
       "      <td>9779.200195</td>\n",
       "      <td>9585.959961</td>\n",
       "      <td>9695.500000</td>\n",
       "      <td>9700.759766</td>\n",
       "      <td>8217829888</td>\n",
       "      <td>9700.759766</td>\n",
       "    </tr>\n",
       "    <tr>\n",
       "      <th>2018-05-04</th>\n",
       "      <td>9964.500000</td>\n",
       "      <td>9695.120117</td>\n",
       "      <td>9700.280273</td>\n",
       "      <td>9858.150391</td>\n",
       "      <td>7651939840</td>\n",
       "      <td>9858.150391</td>\n",
       "    </tr>\n",
       "  </tbody>\n",
       "</table>\n",
       "</div>"
      ],
      "text/plain": [
       "                   High          Low         Open        Close       Volume  \\\n",
       "Date                                                                          \n",
       "2018-04-30  9255.879883  8891.049805  9251.469727  9119.009766   7713019904   \n",
       "2018-05-01  9256.519531  9015.139648  9104.599609  9235.919922   7558159872   \n",
       "2018-05-02  9798.330078  9188.150391  9233.969727  9743.860352  10207299584   \n",
       "2018-05-03  9779.200195  9585.959961  9695.500000  9700.759766   8217829888   \n",
       "2018-05-04  9964.500000  9695.120117  9700.280273  9858.150391   7651939840   \n",
       "\n",
       "              Adj Close  \n",
       "Date                     \n",
       "2018-04-30  9119.009766  \n",
       "2018-05-01  9235.919922  \n",
       "2018-05-02  9743.860352  \n",
       "2018-05-03  9700.759766  \n",
       "2018-05-04  9858.150391  "
      ]
     },
     "execution_count": 5,
     "metadata": {},
     "output_type": "execute_result"
    }
   ],
   "source": [
    "btc.head()"
   ]
  },
  {
   "cell_type": "code",
   "execution_count": 6,
   "metadata": {
    "colab": {},
    "colab_type": "code",
    "id": "M0D00KCKDIJ-"
   },
   "outputs": [],
   "source": [
    "#eliminando outras colunas para ficar apenas Close. Em cripto não faz sentido \"adj Close\"\n",
    "btc.drop(['High','Low','Open','Volume','Adj Close'], axis=1,inplace=True)\n",
    "eth.drop(['High','Low','Open','Volume','Adj Close'], axis=1,inplace=True)\n",
    "ltc.drop(['High','Low','Open','Volume','Adj Close'], axis=1,inplace=True)\n",
    "dash.drop(['High','Low','Open','Volume','Adj Close'], axis=1,inplace=True)"
   ]
  },
  {
   "cell_type": "code",
   "execution_count": 7,
   "metadata": {
    "colab": {},
    "colab_type": "code",
    "id": "kcf5x9PlDzWc"
   },
   "outputs": [],
   "source": [
    "#concatenar para o o já fracionado 'Close'\n",
    "crypto = pd.concat([btc,eth,ltc,dash],axis=1) \n",
    "#mudar os headers da colunas\n",
    "crypto.columns = ['BTC','ETH','LTC','DASH']"
   ]
  },
  {
   "cell_type": "code",
   "execution_count": 8,
   "metadata": {
    "colab": {
     "base_uri": "https://localhost:8080/",
     "height": 235
    },
    "colab_type": "code",
    "executionInfo": {
     "elapsed": 5236,
     "status": "ok",
     "timestamp": 1590625628909,
     "user": {
      "displayName": "Danilo Ribeiro de Lima",
      "photoUrl": "",
      "userId": "05842338070953503285"
     },
     "user_tz": 180
    },
    "id": "0AGR37N8Em2I",
    "outputId": "140f73df-9c70-4ba6-9b93-67a9ab253862"
   },
   "outputs": [
    {
     "data": {
      "text/html": [
       "<div>\n",
       "<style scoped>\n",
       "    .dataframe tbody tr th:only-of-type {\n",
       "        vertical-align: middle;\n",
       "    }\n",
       "\n",
       "    .dataframe tbody tr th {\n",
       "        vertical-align: top;\n",
       "    }\n",
       "\n",
       "    .dataframe thead th {\n",
       "        text-align: right;\n",
       "    }\n",
       "</style>\n",
       "<table border=\"1\" class=\"dataframe\">\n",
       "  <thead>\n",
       "    <tr style=\"text-align: right;\">\n",
       "      <th></th>\n",
       "      <th>BTC</th>\n",
       "      <th>ETH</th>\n",
       "      <th>LTC</th>\n",
       "      <th>DASH</th>\n",
       "    </tr>\n",
       "    <tr>\n",
       "      <th>Date</th>\n",
       "      <th></th>\n",
       "      <th></th>\n",
       "      <th></th>\n",
       "      <th></th>\n",
       "    </tr>\n",
       "  </thead>\n",
       "  <tbody>\n",
       "    <tr>\n",
       "      <th>2018-04-30</th>\n",
       "      <td>9119.009766</td>\n",
       "      <td>673.612976</td>\n",
       "      <td>148.488007</td>\n",
       "      <td>478.897003</td>\n",
       "    </tr>\n",
       "    <tr>\n",
       "      <th>2018-05-01</th>\n",
       "      <td>9235.919922</td>\n",
       "      <td>687.148987</td>\n",
       "      <td>151.576996</td>\n",
       "      <td>481.489990</td>\n",
       "    </tr>\n",
       "    <tr>\n",
       "      <th>2018-05-02</th>\n",
       "      <td>9743.860352</td>\n",
       "      <td>779.543030</td>\n",
       "      <td>161.459000</td>\n",
       "      <td>503.317993</td>\n",
       "    </tr>\n",
       "    <tr>\n",
       "      <th>2018-05-03</th>\n",
       "      <td>9700.759766</td>\n",
       "      <td>785.624023</td>\n",
       "      <td>168.787994</td>\n",
       "      <td>486.322998</td>\n",
       "    </tr>\n",
       "    <tr>\n",
       "      <th>2018-05-04</th>\n",
       "      <td>9858.150391</td>\n",
       "      <td>816.119995</td>\n",
       "      <td>177.761993</td>\n",
       "      <td>505.714996</td>\n",
       "    </tr>\n",
       "  </tbody>\n",
       "</table>\n",
       "</div>"
      ],
      "text/plain": [
       "                    BTC         ETH         LTC        DASH\n",
       "Date                                                       \n",
       "2018-04-30  9119.009766  673.612976  148.488007  478.897003\n",
       "2018-05-01  9235.919922  687.148987  151.576996  481.489990\n",
       "2018-05-02  9743.860352  779.543030  161.459000  503.317993\n",
       "2018-05-03  9700.759766  785.624023  168.787994  486.322998\n",
       "2018-05-04  9858.150391  816.119995  177.761993  505.714996"
      ]
     },
     "execution_count": 8,
     "metadata": {},
     "output_type": "execute_result"
    }
   ],
   "source": [
    "crypto.head()"
   ]
  },
  {
   "cell_type": "code",
   "execution_count": 9,
   "metadata": {
    "colab": {
     "base_uri": "https://localhost:8080/",
     "height": 102
    },
    "colab_type": "code",
    "executionInfo": {
     "elapsed": 5135,
     "status": "ok",
     "timestamp": 1590625628911,
     "user": {
      "displayName": "Danilo Ribeiro de Lima",
      "photoUrl": "",
      "userId": "05842338070953503285"
     },
     "user_tz": 180
    },
    "id": "nqnseypRFOPI",
    "outputId": "a507b074-ff2c-42b0-9666-950f6c98bf87"
   },
   "outputs": [
    {
     "data": {
      "text/plain": [
       "BTC     0.001776\n",
       "ETH     0.001235\n",
       "LTC     0.001068\n",
       "DASH   -0.000181\n",
       "dtype: float64"
      ]
     },
     "execution_count": 9,
     "metadata": {},
     "output_type": "execute_result"
    }
   ],
   "source": [
    "#retorno diario médio\n",
    "mean_daily_ret = crypto.pct_change(1).mean()\n",
    "mean_daily_ret"
   ]
  },
  {
   "cell_type": "code",
   "execution_count": 10,
   "metadata": {
    "colab": {
     "base_uri": "https://localhost:8080/",
     "height": 173
    },
    "colab_type": "code",
    "executionInfo": {
     "elapsed": 5122,
     "status": "ok",
     "timestamp": 1590625628916,
     "user": {
      "displayName": "Danilo Ribeiro de Lima",
      "photoUrl": "",
      "userId": "05842338070953503285"
     },
     "user_tz": 180
    },
    "id": "h9Bs76w2Fh7t",
    "outputId": "ba2566dc-cf79-4336-fba7-7dee0c7d8c78"
   },
   "outputs": [
    {
     "data": {
      "text/html": [
       "<div>\n",
       "<style scoped>\n",
       "    .dataframe tbody tr th:only-of-type {\n",
       "        vertical-align: middle;\n",
       "    }\n",
       "\n",
       "    .dataframe tbody tr th {\n",
       "        vertical-align: top;\n",
       "    }\n",
       "\n",
       "    .dataframe thead th {\n",
       "        text-align: right;\n",
       "    }\n",
       "</style>\n",
       "<table border=\"1\" class=\"dataframe\">\n",
       "  <thead>\n",
       "    <tr style=\"text-align: right;\">\n",
       "      <th></th>\n",
       "      <th>BTC</th>\n",
       "      <th>ETH</th>\n",
       "      <th>LTC</th>\n",
       "      <th>DASH</th>\n",
       "    </tr>\n",
       "  </thead>\n",
       "  <tbody>\n",
       "    <tr>\n",
       "      <th>BTC</th>\n",
       "      <td>1.000000</td>\n",
       "      <td>0.830396</td>\n",
       "      <td>0.807557</td>\n",
       "      <td>0.691283</td>\n",
       "    </tr>\n",
       "    <tr>\n",
       "      <th>ETH</th>\n",
       "      <td>0.830396</td>\n",
       "      <td>1.000000</td>\n",
       "      <td>0.845143</td>\n",
       "      <td>0.720066</td>\n",
       "    </tr>\n",
       "    <tr>\n",
       "      <th>LTC</th>\n",
       "      <td>0.807557</td>\n",
       "      <td>0.845143</td>\n",
       "      <td>1.000000</td>\n",
       "      <td>0.696447</td>\n",
       "    </tr>\n",
       "    <tr>\n",
       "      <th>DASH</th>\n",
       "      <td>0.691283</td>\n",
       "      <td>0.720066</td>\n",
       "      <td>0.696447</td>\n",
       "      <td>1.000000</td>\n",
       "    </tr>\n",
       "  </tbody>\n",
       "</table>\n",
       "</div>"
      ],
      "text/plain": [
       "           BTC       ETH       LTC      DASH\n",
       "BTC   1.000000  0.830396  0.807557  0.691283\n",
       "ETH   0.830396  1.000000  0.845143  0.720066\n",
       "LTC   0.807557  0.845143  1.000000  0.696447\n",
       "DASH  0.691283  0.720066  0.696447  1.000000"
      ]
     },
     "execution_count": 10,
     "metadata": {},
     "output_type": "execute_result"
    }
   ],
   "source": [
    "#Checar correlação entre elas:\n",
    "crypto.pct_change(1).corr()"
   ]
  },
  {
   "cell_type": "code",
   "execution_count": 11,
   "metadata": {
    "colab": {
     "base_uri": "https://localhost:8080/",
     "height": 294
    },
    "colab_type": "code",
    "executionInfo": {
     "elapsed": 5106,
     "status": "ok",
     "timestamp": 1590625628917,
     "user": {
      "displayName": "Danilo Ribeiro de Lima",
      "photoUrl": "",
      "userId": "05842338070953503285"
     },
     "user_tz": 180
    },
    "id": "Q_5JBhHfH0jv",
    "outputId": "b0d8c43a-6fd5-45b6-d22c-95a9283cc0b6"
   },
   "outputs": [
    {
     "data": {
      "text/plain": [
       "<AxesSubplot:xlabel='Date'>"
      ]
     },
     "execution_count": 11,
     "metadata": {},
     "output_type": "execute_result"
    },
    {
     "data": {
      "image/png": "[encoded data removed]",
      "text/plain": [
       "<Figure size 432x288 with 1 Axes>"
      ]
     },
     "metadata": {
      "needs_background": "light"
     },
     "output_type": "display_data"
    }
   ],
   "source": [
    "crypto_normed = crypto/crypto.iloc[0]\n",
    "crypto_normed.plot()"
   ]
  },
  {
   "cell_type": "code",
   "execution_count": 12,
   "metadata": {
    "colab": {},
    "colab_type": "code",
    "id": "bWcnph43Ggwi"
   },
   "outputs": [],
   "source": [
    "#aqui poderia escolher entre log ou aritmetico...usar log!"
   ]
  },
  {
   "cell_type": "code",
   "execution_count": 13,
   "metadata": {
    "colab": {
     "base_uri": "https://localhost:8080/",
     "height": 235
    },
    "colab_type": "code",
    "executionInfo": {
     "elapsed": 4917,
     "status": "ok",
     "timestamp": 1590625628920,
     "user": {
      "displayName": "Danilo Ribeiro de Lima",
      "photoUrl": "",
      "userId": "05842338070953503285"
     },
     "user_tz": 180
    },
    "id": "bvChvgQXIIzy",
    "outputId": "5a52fa03-6b0c-4057-e42e-8ffe1d3d2d9a"
   },
   "outputs": [
    {
     "data": {
      "text/html": [
       "<div>\n",
       "<style scoped>\n",
       "    .dataframe tbody tr th:only-of-type {\n",
       "        vertical-align: middle;\n",
       "    }\n",
       "\n",
       "    .dataframe tbody tr th {\n",
       "        vertical-align: top;\n",
       "    }\n",
       "\n",
       "    .dataframe thead th {\n",
       "        text-align: right;\n",
       "    }\n",
       "</style>\n",
       "<table border=\"1\" class=\"dataframe\">\n",
       "  <thead>\n",
       "    <tr style=\"text-align: right;\">\n",
       "      <th></th>\n",
       "      <th>BTC</th>\n",
       "      <th>ETH</th>\n",
       "      <th>LTC</th>\n",
       "      <th>DASH</th>\n",
       "    </tr>\n",
       "    <tr>\n",
       "      <th>Date</th>\n",
       "      <th></th>\n",
       "      <th></th>\n",
       "      <th></th>\n",
       "      <th></th>\n",
       "    </tr>\n",
       "  </thead>\n",
       "  <tbody>\n",
       "    <tr>\n",
       "      <th>2018-04-30</th>\n",
       "      <td>NaN</td>\n",
       "      <td>NaN</td>\n",
       "      <td>NaN</td>\n",
       "      <td>NaN</td>\n",
       "    </tr>\n",
       "    <tr>\n",
       "      <th>2018-05-01</th>\n",
       "      <td>0.012739</td>\n",
       "      <td>0.019895</td>\n",
       "      <td>0.020590</td>\n",
       "      <td>0.005400</td>\n",
       "    </tr>\n",
       "    <tr>\n",
       "      <th>2018-05-02</th>\n",
       "      <td>0.053537</td>\n",
       "      <td>0.126157</td>\n",
       "      <td>0.063158</td>\n",
       "      <td>0.044337</td>\n",
       "    </tr>\n",
       "    <tr>\n",
       "      <th>2018-05-03</th>\n",
       "      <td>-0.004433</td>\n",
       "      <td>0.007770</td>\n",
       "      <td>0.044392</td>\n",
       "      <td>-0.034349</td>\n",
       "    </tr>\n",
       "    <tr>\n",
       "      <th>2018-05-04</th>\n",
       "      <td>0.016094</td>\n",
       "      <td>0.038083</td>\n",
       "      <td>0.051802</td>\n",
       "      <td>0.039100</td>\n",
       "    </tr>\n",
       "  </tbody>\n",
       "</table>\n",
       "</div>"
      ],
      "text/plain": [
       "                 BTC       ETH       LTC      DASH\n",
       "Date                                              \n",
       "2018-04-30       NaN       NaN       NaN       NaN\n",
       "2018-05-01  0.012739  0.019895  0.020590  0.005400\n",
       "2018-05-02  0.053537  0.126157  0.063158  0.044337\n",
       "2018-05-03 -0.004433  0.007770  0.044392 -0.034349\n",
       "2018-05-04  0.016094  0.038083  0.051802  0.039100"
      ]
     },
     "execution_count": 13,
     "metadata": {},
     "output_type": "execute_result"
    }
   ],
   "source": [
    "log_ret = np.log(crypto/crypto.shift(1))\n",
    "log_ret.head()"
   ]
  },
  {
   "cell_type": "code",
   "execution_count": 14,
   "metadata": {
    "colab": {
     "base_uri": "https://localhost:8080/",
     "height": 441
    },
    "colab_type": "code",
    "executionInfo": {
     "elapsed": 6990,
     "status": "ok",
     "timestamp": 1590625631022,
     "user": {
      "displayName": "Danilo Ribeiro de Lima",
      "photoUrl": "",
      "userId": "05842338070953503285"
     },
     "user_tz": 180
    },
    "id": "vCrRAthPIYeI",
    "outputId": "01ae600e-9ee3-4535-8fef-73cf62ba2e70"
   },
   "outputs": [
    {
     "data": {
      "image/png": "[encoded data removed]",
      "text/plain": [
       "<Figure size 864x432 with 4 Axes>"
      ]
     },
     "metadata": {
      "needs_background": "light"
     },
     "output_type": "display_data"
    }
   ],
   "source": [
    "log_ret.hist(bins=100,figsize=(12,6));\n",
    "plt.tight_layout()"
   ]
  },
  {
   "cell_type": "code",
   "execution_count": 15,
   "metadata": {
    "colab": {
     "base_uri": "https://localhost:8080/",
     "height": 173
    },
    "colab_type": "code",
    "executionInfo": {
     "elapsed": 6971,
     "status": "ok",
     "timestamp": 1590625631027,
     "user": {
      "displayName": "Danilo Ribeiro de Lima",
      "photoUrl": "",
      "userId": "05842338070953503285"
     },
     "user_tz": 180
    },
    "id": "ksotrNFjIeAQ",
    "outputId": "9ef6e2b6-27cf-4972-e975-20ccc4f6d956"
   },
   "outputs": [
    {
     "data": {
      "text/html": [
       "<div>\n",
       "<style scoped>\n",
       "    .dataframe tbody tr th:only-of-type {\n",
       "        vertical-align: middle;\n",
       "    }\n",
       "\n",
       "    .dataframe tbody tr th {\n",
       "        vertical-align: top;\n",
       "    }\n",
       "\n",
       "    .dataframe thead th {\n",
       "        text-align: right;\n",
       "    }\n",
       "</style>\n",
       "<table border=\"1\" class=\"dataframe\">\n",
       "  <thead>\n",
       "    <tr style=\"text-align: right;\">\n",
       "      <th></th>\n",
       "      <th>count</th>\n",
       "      <th>mean</th>\n",
       "      <th>std</th>\n",
       "      <th>min</th>\n",
       "      <th>25%</th>\n",
       "      <th>50%</th>\n",
       "      <th>75%</th>\n",
       "      <th>max</th>\n",
       "    </tr>\n",
       "  </thead>\n",
       "  <tbody>\n",
       "    <tr>\n",
       "      <th>BTC</th>\n",
       "      <td>972.0</td>\n",
       "      <td>0.001110</td>\n",
       "      <td>0.036872</td>\n",
       "      <td>-0.464730</td>\n",
       "      <td>-0.012205</td>\n",
       "      <td>0.001273</td>\n",
       "      <td>0.014967</td>\n",
       "      <td>0.167104</td>\n",
       "    </tr>\n",
       "    <tr>\n",
       "      <th>ETH</th>\n",
       "      <td>972.0</td>\n",
       "      <td>0.000083</td>\n",
       "      <td>0.048591</td>\n",
       "      <td>-0.550732</td>\n",
       "      <td>-0.019380</td>\n",
       "      <td>0.000477</td>\n",
       "      <td>0.022708</td>\n",
       "      <td>0.173452</td>\n",
       "    </tr>\n",
       "    <tr>\n",
       "      <th>LTC</th>\n",
       "      <td>972.0</td>\n",
       "      <td>-0.000134</td>\n",
       "      <td>0.049236</td>\n",
       "      <td>-0.449062</td>\n",
       "      <td>-0.024259</td>\n",
       "      <td>-0.000881</td>\n",
       "      <td>0.023669</td>\n",
       "      <td>0.268725</td>\n",
       "    </tr>\n",
       "    <tr>\n",
       "      <th>DASH</th>\n",
       "      <td>972.0</td>\n",
       "      <td>-0.001545</td>\n",
       "      <td>0.052135</td>\n",
       "      <td>-0.459331</td>\n",
       "      <td>-0.024029</td>\n",
       "      <td>-0.001023</td>\n",
       "      <td>0.019940</td>\n",
       "      <td>0.399625</td>\n",
       "    </tr>\n",
       "  </tbody>\n",
       "</table>\n",
       "</div>"
      ],
      "text/plain": [
       "      count      mean       std       min       25%       50%       75%  \\\n",
       "BTC   972.0  0.001110  0.036872 -0.464730 -0.012205  0.001273  0.014967   \n",
       "ETH   972.0  0.000083  0.048591 -0.550732 -0.019380  0.000477  0.022708   \n",
       "LTC   972.0 -0.000134  0.049236 -0.449062 -0.024259 -0.000881  0.023669   \n",
       "DASH  972.0 -0.001545  0.052135 -0.459331 -0.024029 -0.001023  0.019940   \n",
       "\n",
       "           max  \n",
       "BTC   0.167104  \n",
       "ETH   0.173452  \n",
       "LTC   0.268725  \n",
       "DASH  0.399625  "
      ]
     },
     "execution_count": 15,
     "metadata": {},
     "output_type": "execute_result"
    }
   ],
   "source": [
    "#analisando um pouco dos resultados\n",
    "log_ret.describe().transpose()"
   ]
  },
  {
   "cell_type": "code",
   "execution_count": 16,
   "metadata": {
    "colab": {
     "base_uri": "https://localhost:8080/",
     "height": 102
    },
    "colab_type": "code",
    "executionInfo": {
     "elapsed": 6947,
     "status": "ok",
     "timestamp": 1590625631029,
     "user": {
      "displayName": "Danilo Ribeiro de Lima",
      "photoUrl": "",
      "userId": "05842338070953503285"
     },
     "user_tz": 180
    },
    "id": "oz_n0NxKInn8",
    "outputId": "65b209ca-942f-497a-8027-7f62a503bfcc"
   },
   "outputs": [
    {
     "data": {
      "text/plain": [
       "BTC     0.405055\n",
       "ETH     0.030364\n",
       "LTC    -0.049058\n",
       "DASH   -0.563936\n",
       "dtype: float64"
      ]
     },
     "execution_count": 16,
     "metadata": {},
     "output_type": "execute_result"
    }
   ],
   "source": [
    "log_ret.mean() * days #BTC teve uma media de retorno de 64% ao ano (versão Dec 2020)"
   ]
  },
  {
   "cell_type": "code",
   "execution_count": 17,
   "metadata": {
    "colab": {
     "base_uri": "https://localhost:8080/",
     "height": 173
    },
    "colab_type": "code",
    "executionInfo": {
     "elapsed": 6930,
     "status": "ok",
     "timestamp": 1590625631037,
     "user": {
      "displayName": "Danilo Ribeiro de Lima",
      "photoUrl": "",
      "userId": "05842338070953503285"
     },
     "user_tz": 180
    },
    "id": "ecTs2rAZJy9Q",
    "outputId": "e1d6c5e1-bf36-4c12-825a-658ea3ceff6a"
   },
   "outputs": [
    {
     "data": {
      "text/html": [
       "<div>\n",
       "<style scoped>\n",
       "    .dataframe tbody tr th:only-of-type {\n",
       "        vertical-align: middle;\n",
       "    }\n",
       "\n",
       "    .dataframe tbody tr th {\n",
       "        vertical-align: top;\n",
       "    }\n",
       "\n",
       "    .dataframe thead th {\n",
       "        text-align: right;\n",
       "    }\n",
       "</style>\n",
       "<table border=\"1\" class=\"dataframe\">\n",
       "  <thead>\n",
       "    <tr style=\"text-align: right;\">\n",
       "      <th></th>\n",
       "      <th>BTC</th>\n",
       "      <th>ETH</th>\n",
       "      <th>LTC</th>\n",
       "      <th>DASH</th>\n",
       "    </tr>\n",
       "  </thead>\n",
       "  <tbody>\n",
       "    <tr>\n",
       "      <th>BTC</th>\n",
       "      <td>0.001360</td>\n",
       "      <td>0.001515</td>\n",
       "      <td>0.001491</td>\n",
       "      <td>0.001397</td>\n",
       "    </tr>\n",
       "    <tr>\n",
       "      <th>ETH</th>\n",
       "      <td>0.001515</td>\n",
       "      <td>0.002361</td>\n",
       "      <td>0.002052</td>\n",
       "      <td>0.001917</td>\n",
       "    </tr>\n",
       "    <tr>\n",
       "      <th>LTC</th>\n",
       "      <td>0.001491</td>\n",
       "      <td>0.002052</td>\n",
       "      <td>0.002424</td>\n",
       "      <td>0.001888</td>\n",
       "    </tr>\n",
       "    <tr>\n",
       "      <th>DASH</th>\n",
       "      <td>0.001397</td>\n",
       "      <td>0.001917</td>\n",
       "      <td>0.001888</td>\n",
       "      <td>0.002718</td>\n",
       "    </tr>\n",
       "  </tbody>\n",
       "</table>\n",
       "</div>"
      ],
      "text/plain": [
       "           BTC       ETH       LTC      DASH\n",
       "BTC   0.001360  0.001515  0.001491  0.001397\n",
       "ETH   0.001515  0.002361  0.002052  0.001917\n",
       "LTC   0.001491  0.002052  0.002424  0.001888\n",
       "DASH  0.001397  0.001917  0.001888  0.002718"
      ]
     },
     "execution_count": 17,
     "metadata": {},
     "output_type": "execute_result"
    }
   ],
   "source": [
    "log_ret.cov()"
   ]
  },
  {
   "cell_type": "code",
   "execution_count": 18,
   "metadata": {
    "colab": {
     "base_uri": "https://localhost:8080/",
     "height": 173
    },
    "colab_type": "code",
    "executionInfo": {
     "elapsed": 6901,
     "status": "ok",
     "timestamp": 1590625631039,
     "user": {
      "displayName": "Danilo Ribeiro de Lima",
      "photoUrl": "",
      "userId": "05842338070953503285"
     },
     "user_tz": 180
    },
    "id": "edD-j_8VJzYE",
    "outputId": "22fff6d7-07e1-432c-9b86-b47af62e21f5"
   },
   "outputs": [
    {
     "data": {
      "text/html": [
       "<div>\n",
       "<style scoped>\n",
       "    .dataframe tbody tr th:only-of-type {\n",
       "        vertical-align: middle;\n",
       "    }\n",
       "\n",
       "    .dataframe tbody tr th {\n",
       "        vertical-align: top;\n",
       "    }\n",
       "\n",
       "    .dataframe thead th {\n",
       "        text-align: right;\n",
       "    }\n",
       "</style>\n",
       "<table border=\"1\" class=\"dataframe\">\n",
       "  <thead>\n",
       "    <tr style=\"text-align: right;\">\n",
       "      <th></th>\n",
       "      <th>BTC</th>\n",
       "      <th>ETH</th>\n",
       "      <th>LTC</th>\n",
       "      <th>DASH</th>\n",
       "    </tr>\n",
       "  </thead>\n",
       "  <tbody>\n",
       "    <tr>\n",
       "      <th>BTC</th>\n",
       "      <td>0.496243</td>\n",
       "      <td>0.552924</td>\n",
       "      <td>0.544065</td>\n",
       "      <td>0.510050</td>\n",
       "    </tr>\n",
       "    <tr>\n",
       "      <th>ETH</th>\n",
       "      <td>0.552924</td>\n",
       "      <td>0.861790</td>\n",
       "      <td>0.748842</td>\n",
       "      <td>0.699712</td>\n",
       "    </tr>\n",
       "    <tr>\n",
       "      <th>LTC</th>\n",
       "      <td>0.544065</td>\n",
       "      <td>0.748842</td>\n",
       "      <td>0.884832</td>\n",
       "      <td>0.689192</td>\n",
       "    </tr>\n",
       "    <tr>\n",
       "      <th>DASH</th>\n",
       "      <td>0.510050</td>\n",
       "      <td>0.699712</td>\n",
       "      <td>0.689192</td>\n",
       "      <td>0.992091</td>\n",
       "    </tr>\n",
       "  </tbody>\n",
       "</table>\n",
       "</div>"
      ],
      "text/plain": [
       "           BTC       ETH       LTC      DASH\n",
       "BTC   0.496243  0.552924  0.544065  0.510050\n",
       "ETH   0.552924  0.861790  0.748842  0.699712\n",
       "LTC   0.544065  0.748842  0.884832  0.689192\n",
       "DASH  0.510050  0.699712  0.689192  0.992091"
      ]
     },
     "execution_count": 18,
     "metadata": {},
     "output_type": "execute_result"
    }
   ],
   "source": [
    "log_ret.cov()*days"
   ]
  },
  {
   "cell_type": "code",
   "execution_count": 19,
   "metadata": {
    "colab": {},
    "colab_type": "code",
    "id": "_-LMQiccIw5V"
   },
   "outputs": [],
   "source": [
    "#agora vamos fazer alocaçãoes randomicas"
   ]
  },
  {
   "cell_type": "code",
   "execution_count": 20,
   "metadata": {
    "colab": {
     "base_uri": "https://localhost:8080/",
     "height": 391
    },
    "colab_type": "code",
    "executionInfo": {
     "elapsed": 6842,
     "status": "ok",
     "timestamp": 1590625631044,
     "user": {
      "displayName": "Danilo Ribeiro de Lima",
      "photoUrl": "",
      "userId": "05842338070953503285"
     },
     "user_tz": 180
    },
    "id": "aoksDu5mJUyS",
    "outputId": "9788aa8f-e744-4827-cb8b-22881c60196d"
   },
   "outputs": [
    {
     "name": "stdout",
     "output_type": "stream",
     "text": [
      "Cryptos\n",
      "Index(['BTC', 'ETH', 'LTC', 'DASH'], dtype='object')\n",
      "\n",
      "\n",
      "Creating Random Weights\n",
      "[0.51639863 0.57066759 0.02847423 0.17152166]\n",
      "\n",
      "\n",
      "Rebalance to sum to 1.0\n",
      "[0.40122278 0.44338777 0.02212343 0.13326603]\n",
      "\n",
      "\n",
      "Expected Portfolio Return\n",
      "0.09974158909520611\n",
      "\n",
      "\n",
      "Expected Volatility\n",
      "0.7935580344238486\n",
      "\n",
      "\n",
      "Sharpe Ratio\n",
      "0.12568909237699552\n"
     ]
    }
   ],
   "source": [
    "# seed (opcional) ,,,,101 é um numero arbitrario\n",
    "np.random.seed(101)\n",
    "\n",
    "# lembrar das colunas\n",
    "print('Cryptos')\n",
    "print(crypto.columns)\n",
    "print('\\n')\n",
    "\n",
    "# criar pesos aleatorios: cria 4 pesos diferentes, mas a soma deles não é 1\n",
    "print('Creating Random Weights')\n",
    "weights = np.array(np.random.random(number_sec))\n",
    "print(weights)\n",
    "print('\\n')\n",
    "\n",
    "# rebalancear pesos: agora a soma dos pesos é 1\n",
    "print('Rebalance to sum to 1.0')\n",
    "weights = weights / np.sum(weights)\n",
    "print(weights)\n",
    "print('\\n')\n",
    "\n",
    "# retorno esperado...multiplica os retornos diario pelos pesos e multiplica por 365\n",
    "print('Expected Portfolio Return')\n",
    "exp_ret = np.sum(log_ret.mean() * weights) * days\n",
    "print(exp_ret)\n",
    "print('\\n')\n",
    "\n",
    "# variancia esperada (volatilidade)\n",
    "print('Expected Volatility')\n",
    "exp_vol = np.sqrt(np.dot(weights.T, np.dot(log_ret.cov() * days, weights)))\n",
    "print(exp_vol)\n",
    "print('\\n')\n",
    "\n",
    "# Sharpe Ratio\n",
    "SR = exp_ret/exp_vol\n",
    "print('Sharpe Ratio')\n",
    "print(SR)"
   ]
  },
  {
   "cell_type": "code",
   "execution_count": 21,
   "metadata": {
    "colab": {},
    "colab_type": "code",
    "id": "D6BL3MfyLwPB"
   },
   "outputs": [],
   "source": [
    "#agora vamos pegar esse processo e repetir centenas de vezes para chegar aconclusão sobre a alocação de portfolio"
   ]
  },
  {
   "cell_type": "code",
   "execution_count": 22,
   "metadata": {
    "colab": {},
    "colab_type": "code",
    "id": "Zofyk2cwMWVU"
   },
   "outputs": [],
   "source": [
    "num_ports = 50000\n",
    "\n",
    "#zerando os valores apos retornarem do loop\n",
    "all_weights = np.zeros((num_ports,len(crypto.columns)))\n",
    "ret_arr = np.zeros(num_ports)\n",
    "vol_arr = np.zeros(num_ports)\n",
    "sharpe_arr = np.zeros(num_ports)\n",
    "\n",
    "for ind in range(num_ports): #maioria das equações abaixo paermancem, mas colocou um loop\n",
    "\n",
    "    # Create Random Weights\n",
    "    weights = np.array(np.random.random(number_sec))\n",
    "\n",
    "    # Rebalance Weights\n",
    "    weights = weights / np.sum(weights)\n",
    "    \n",
    "    # Save Weights\n",
    "    all_weights[ind,:] = weights\n",
    "\n",
    "    # Expected Return\n",
    "    ret_arr[ind] = np.sum((log_ret.mean() * weights) *days)\n",
    "\n",
    "    # Expected Variance\n",
    "    vol_arr[ind] = np.sqrt(np.dot(weights.T, np.dot(log_ret.cov() * days, weights)))\n",
    "\n",
    "    # Sharpe Ratio\n",
    "    sharpe_arr[ind] = ret_arr[ind]/vol_arr[ind]"
   ]
  },
  {
   "cell_type": "code",
   "execution_count": 23,
   "metadata": {
    "colab": {
     "base_uri": "https://localhost:8080/",
     "height": 34
    },
    "colab_type": "code",
    "executionInfo": {
     "elapsed": 60452,
     "status": "ok",
     "timestamp": 1590625684762,
     "user": {
      "displayName": "Danilo Ribeiro de Lima",
      "photoUrl": "",
      "userId": "05842338070953503285"
     },
     "user_tz": 180
    },
    "id": "4pUiklZnNsJZ",
    "outputId": "306d965e-b31f-45a1-aef6-609d5efb9fe2"
   },
   "outputs": [
    {
     "data": {
      "text/plain": [
       "0.5103083351144435"
      ]
     },
     "execution_count": 23,
     "metadata": {},
     "output_type": "execute_result"
    }
   ],
   "source": [
    "#melhor sharp ratio\n",
    "sharpe_arr.max()"
   ]
  },
  {
   "cell_type": "code",
   "execution_count": 24,
   "metadata": {
    "colab": {
     "base_uri": "https://localhost:8080/",
     "height": 34
    },
    "colab_type": "code",
    "executionInfo": {
     "elapsed": 60410,
     "status": "ok",
     "timestamp": 1590625684764,
     "user": {
      "displayName": "Danilo Ribeiro de Lima",
      "photoUrl": "",
      "userId": "05842338070953503285"
     },
     "user_tz": 180
    },
    "id": "FuBEyKFqN8rO",
    "outputId": "0b38d2f6-6b94-4c52-b12b-2b9cf223b20b"
   },
   "outputs": [
    {
     "data": {
      "text/plain": [
       "13012"
      ]
     },
     "execution_count": 24,
     "metadata": {},
     "output_type": "execute_result"
    }
   ],
   "source": [
    "#qual a posição dele...\n",
    "sharpe_arr.argmax()"
   ]
  },
  {
   "cell_type": "code",
   "execution_count": 25,
   "metadata": {
    "colab": {
     "base_uri": "https://localhost:8080/",
     "height": 85
    },
    "colab_type": "code",
    "executionInfo": {
     "elapsed": 1302,
     "status": "ok",
     "timestamp": 1590625740447,
     "user": {
      "displayName": "Danilo Ribeiro de Lima",
      "photoUrl": "",
      "userId": "05842338070953503285"
     },
     "user_tz": 180
    },
    "id": "oSdy73JurkkV",
    "outputId": "2476c212-a1ba-43e7-934f-d7544eb5d255"
   },
   "outputs": [
    {
     "name": "stdout",
     "output_type": "stream",
     "text": [
      "Cryptos\n",
      "Index(['BTC', 'ETH', 'LTC', 'DASH'], dtype='object')\n",
      "\n",
      "\n"
     ]
    }
   ],
   "source": [
    "# Columns lembrar das colunas\n",
    "print('Cryptos')\n",
    "print(crypto.columns)\n",
    "print('\\n')"
   ]
  },
  {
   "cell_type": "code",
   "execution_count": 26,
   "metadata": {
    "colab": {
     "base_uri": "https://localhost:8080/",
     "height": 34
    },
    "colab_type": "code",
    "executionInfo": {
     "elapsed": 60357,
     "status": "ok",
     "timestamp": 1590625684769,
     "user": {
      "displayName": "Danilo Ribeiro de Lima",
      "photoUrl": "",
      "userId": "05842338070953503285"
     },
     "user_tz": 180
    },
    "id": "o9gMPs65OIyI",
    "outputId": "e663445f-30fe-4767-d17e-498d8d6dbf23"
   },
   "outputs": [
    {
     "data": {
      "text/plain": [
       "array([8.93922205e-01, 1.02851483e-01, 2.67532666e-03, 5.50985466e-04])"
      ]
     },
     "execution_count": 26,
     "metadata": {},
     "output_type": "execute_result"
    }
   ],
   "source": [
    "#e qual a composição...quase tudo em BTC e ETH :-)\n",
    "all_weights[sharpe_arr.argmax(),:]\n",
    "\n",
    "#criar um tabela que integra (concatena) os indexes de cripto e os valores de % comp gerados"
   ]
  },
  {
   "cell_type": "code",
   "execution_count": 27,
   "metadata": {
    "colab": {},
    "colab_type": "code",
    "id": "rdPz6dUNPPoq"
   },
   "outputs": [],
   "source": [
    "max_sr_ret = ret_arr[sharpe_arr.argmax()]\n",
    "max_sr_vol = vol_arr[sharpe_arr.argmax()]"
   ]
  },
  {
   "cell_type": "code",
   "execution_count": 28,
   "metadata": {
    "colab": {
     "base_uri": "https://localhost:8080/",
     "height": 497
    },
    "colab_type": "code",
    "executionInfo": {
     "elapsed": 63166,
     "status": "ok",
     "timestamp": 1590625687617,
     "user": {
      "displayName": "Danilo Ribeiro de Lima",
      "photoUrl": "",
      "userId": "05842338070953503285"
     },
     "user_tz": 180
    },
    "id": "WjPNDZ_qOV8W",
    "outputId": "dd81e4be-0146-425a-ccf6-37f0a7395393"
   },
   "outputs": [
    {
     "data": {
      "image/png": "[encoded data removed]",
      "text/plain": [
       "<Figure size 864x576 with 2 Axes>"
      ]
     },
     "metadata": {
      "needs_background": "light"
     },
     "output_type": "display_data"
    }
   ],
   "source": [
    "plt.figure(figsize=(12,8))\n",
    "plt.scatter(vol_arr,ret_arr,c=sharpe_arr,cmap='plasma')\n",
    "plt.colorbar(label='Sharpe Ratio')\n",
    "plt.xlabel('Volatility')\n",
    "plt.ylabel('Return');\n",
    "\n",
    "# adicionar um ponto vermelho para o melhor Sharpe Ratio\n",
    "plt.scatter(max_sr_vol,max_sr_ret,c='red',s=50,edgecolors='black');"
   ]
  },
  {
   "cell_type": "code",
   "execution_count": 29,
   "metadata": {
    "colab": {},
    "colab_type": "code",
    "id": "rLvLlp0bO3l1"
   },
   "outputs": [],
   "source": [
    "#Mathematical Optimization\n",
    "# funcionalização de retorno e Sharpe Ratio\n",
    "#é uma alternativa ao metodo acima de alocação aleatoria, nesse caso utiliza equação..."
   ]
  },
  {
   "cell_type": "code",
   "execution_count": 30,
   "metadata": {
    "colab": {},
    "colab_type": "code",
    "id": "i59AVZAKsnSR"
   },
   "outputs": [],
   "source": [
    "#criar uma função para mostrar ret,vol e sr\n",
    "def get_ret_vol_sr(weights):\n",
    "    \"\"\"\n",
    "    Takes in weights, returns array or return,volatility, sharpe ratio\n",
    "    \"\"\"\n",
    "    weights = np.array(weights)\n",
    "    ret = np.sum(log_ret.mean() * weights) * days\n",
    "    vol = np.sqrt(np.dot(weights.T, np.dot(log_ret.cov() * days, weights)))\n",
    "    sr = ret/vol\n",
    "    return np.array([ret,vol,sr])"
   ]
  },
  {
   "cell_type": "code",
   "execution_count": 31,
   "metadata": {
    "colab": {},
    "colab_type": "code",
    "id": "7JNLw0patEP4"
   },
   "outputs": [],
   "source": [
    "from scipy.optimize import minimize #para mais info help(minimize)"
   ]
  },
  {
   "cell_type": "code",
   "execution_count": 32,
   "metadata": {
    "colab": {},
    "colab_type": "code",
    "id": "CKu-e5jCtFSW"
   },
   "outputs": [],
   "source": [
    "#o que queremos minimizar...negative sharp ratio...get_ret_vol_sr(weights)[2] * -1 [2]: posição 3 na função é sr, depois multiplica por -1\n",
    "def neg_sharpe(weights):\n",
    "    return  get_ret_vol_sr(weights)[2] * -1"
   ]
  },
  {
   "cell_type": "code",
   "execution_count": 33,
   "metadata": {
    "colab": {},
    "colab_type": "code",
    "id": "53TGIqxdtRGx"
   },
   "outputs": [],
   "source": [
    "# Contraints...minimizar os checks\n",
    "def check_sum(weights):\n",
    "    '''\n",
    "    Returns 0 if sum of weights is 1.0\n",
    "    '''\n",
    "    return np.sum(weights) - 1"
   ]
  },
  {
   "cell_type": "code",
   "execution_count": 34,
   "metadata": {
    "colab": {
     "base_uri": "https://localhost:8080/",
     "height": 34
    },
    "colab_type": "code",
    "executionInfo": {
     "elapsed": 1347,
     "status": "ok",
     "timestamp": 1590626834650,
     "user": {
      "displayName": "Danilo Ribeiro de Lima",
      "photoUrl": "",
      "userId": "05842338070953503285"
     },
     "user_tz": 180
    },
    "id": "NhSJB7MRvG14",
    "outputId": "0e166e1a-e92c-4056-f1ae-0f1bfe6ead61"
   },
   "outputs": [
    {
     "data": {
      "text/plain": [
       "-2.220446049250313e-16"
      ]
     },
     "execution_count": 34,
     "metadata": {},
     "output_type": "execute_result"
    }
   ],
   "source": [
    "check_sum(weights)"
   ]
  },
  {
   "cell_type": "code",
   "execution_count": 35,
   "metadata": {
    "colab": {},
    "colab_type": "code",
    "id": "iz3CNHkDvJmd"
   },
   "outputs": [],
   "source": [
    "# Por convenção de função minimizar deve ser uma função que retorna zero para condições\n",
    "cons = ({'type':'eq','fun': check_sum})\n",
    "# 0-1 para cada peso..de 0 a 1\n",
    "bounds = ((0, 1), (0, 1), (0, 1), (0, 1))\n",
    "# Chutes iniciais (distribuição igual)\n",
    "init_guess = [0.25,0.25,0.25,0.25]\n",
    "# Sequential Least SQuares Programming (SLSQP). Checar o dicionario para outos metodos de calculo\n",
    "opt_results = minimize(neg_sharpe,init_guess,method='SLSQP',bounds=bounds,constraints=cons)"
   ]
  },
  {
   "cell_type": "code",
   "execution_count": 36,
   "metadata": {
    "colab": {
     "base_uri": "https://localhost:8080/",
     "height": 170
    },
    "colab_type": "code",
    "executionInfo": {
     "elapsed": 1586,
     "status": "ok",
     "timestamp": 1590626902432,
     "user": {
      "displayName": "Danilo Ribeiro de Lima",
      "photoUrl": "",
      "userId": "05842338070953503285"
     },
     "user_tz": 180
    },
    "id": "xSTUMXravsCz",
    "outputId": "df2a1c9d-f089-43e0-9193-9d11804f416c"
   },
   "outputs": [
    {
     "data": {
      "text/plain": [
       "     fun: -0.5749990491168887\n",
       "     jac: array([-0.        ,  0.59757281,  0.70005172,  1.39153644])\n",
       " message: 'Optimization terminated successfully'\n",
       "    nfev: 15\n",
       "     nit: 3\n",
       "    njev: 3\n",
       "  status: 0\n",
       " success: True\n",
       "       x: array([1.00000000e+00, 6.10622664e-16, 2.77555756e-17, 0.00000000e+00])"
      ]
     },
     "execution_count": 36,
     "metadata": {},
     "output_type": "execute_result"
    }
   ],
   "source": [
    "opt_results"
   ]
  },
  {
   "cell_type": "code",
   "execution_count": 37,
   "metadata": {
    "colab": {
     "base_uri": "https://localhost:8080/",
     "height": 34
    },
    "colab_type": "code",
    "executionInfo": {
     "elapsed": 1071,
     "status": "ok",
     "timestamp": 1590626931954,
     "user": {
      "displayName": "Danilo Ribeiro de Lima",
      "photoUrl": "",
      "userId": "05842338070953503285"
     },
     "user_tz": 180
    },
    "id": "Hjr4CjNnwFqX",
    "outputId": "0542c4ee-e6f4-43c0-b71e-a452d2a7cbf8"
   },
   "outputs": [
    {
     "data": {
      "text/plain": [
       "array([1.00000000e+00, 6.10622664e-16, 2.77555756e-17, 0.00000000e+00])"
      ]
     },
     "execution_count": 37,
     "metadata": {},
     "output_type": "execute_result"
    }
   ],
   "source": [
    "opt_results.x"
   ]
  },
  {
   "cell_type": "code",
   "execution_count": 38,
   "metadata": {
    "colab": {
     "base_uri": "https://localhost:8080/",
     "height": 34
    },
    "colab_type": "code",
    "executionInfo": {
     "elapsed": 1010,
     "status": "ok",
     "timestamp": 1590626970987,
     "user": {
      "displayName": "Danilo Ribeiro de Lima",
      "photoUrl": "",
      "userId": "05842338070953503285"
     },
     "user_tz": 180
    },
    "id": "vdxqC5YuwNAI",
    "outputId": "55134456-53ed-40d5-da66-5c5654f8674b"
   },
   "outputs": [
    {
     "data": {
      "text/plain": [
       "array([0.40505527, 0.70444511, 0.57499905])"
      ]
     },
     "execution_count": 38,
     "metadata": {},
     "output_type": "execute_result"
    }
   ],
   "source": [
    "get_ret_vol_sr(opt_results.x)"
   ]
  },
  {
   "cell_type": "code",
   "execution_count": 39,
   "metadata": {
    "colab": {},
    "colab_type": "code",
    "id": "7T-fDJwjwWjq"
   },
   "outputs": [],
   "source": [
    "#maximo retorno de 81%, maximo volatilidade de 92% e maximo SR de 0.87...esse numero deveria ser comparavel ao obtido no grafco acima\n",
    "#é uma alternativa ao metodo acima de alocação aleatoria, nesse caso utiliza equação..."
   ]
  },
  {
   "cell_type": "code",
   "execution_count": 40,
   "metadata": {
    "colab": {},
    "colab_type": "code",
    "id": "FgMqqDjRw6qR"
   },
   "outputs": [],
   "source": [
    "# Validação da efficient frontier"
   ]
  },
  {
   "cell_type": "code",
   "execution_count": 41,
   "metadata": {
    "colab": {},
    "colab_type": "code",
    "id": "oCBeMk_SxBY7"
   },
   "outputs": [],
   "source": [
    "#All Optimal Portfolios (Efficient Frontier)\n",
    "#A fronteira eficiente é o conjunto de carteiras ideais que oferece o maior retorno esperado para um nível de risco definido\n",
    "#ou o menor risco para um determinado nível de retorno esperado. Carteiras que ficam abaixo da fronteira eficiente \n",
    "#são sub-ótimas, pois não fornecem retorno suficiente para o nível de risco. \n",
    "# Carteiras que se agrupam à direita da fronteira eficiente também são sub-ótimas, \n",
    "#pois possuem maior nível de risco para a taxa de retorno definida.\n",
    "# http://www.investopedia.com/terms/e/efficientfrontier"
   ]
  },
  {
   "cell_type": "code",
   "execution_count": 42,
   "metadata": {
    "colab": {},
    "colab_type": "code",
    "id": "6B9Kr0S5xMa7"
   },
   "outputs": [],
   "source": [
    "#Os retornos vão de 0 até um numero próximo a 0.3\n",
    "# criar numeros de pontos no linspace para calcular xn\n",
    "frontier_y = np.linspace(0,0.3,100) # Se o computador é rápido, pode colocar mais de 100"
   ]
  },
  {
   "cell_type": "code",
   "execution_count": 43,
   "metadata": {
    "colab": {},
    "colab_type": "code",
    "id": "9RycHJpaxl9b"
   },
   "outputs": [],
   "source": [
    "def minimize_volatility(weights):\n",
    "    return  get_ret_vol_sr(weights)[1] #agora minimizando o segundo termo da equação get_ret_vol_sr...volatilidade [1]"
   ]
  },
  {
   "cell_type": "code",
   "execution_count": 44,
   "metadata": {
    "colab": {},
    "colab_type": "code",
    "id": "VqNL2qjSxyQX"
   },
   "outputs": [],
   "source": [
    "frontier_volatility = []\n",
    "\n",
    "for possible_return in frontier_y:\n",
    "    # function for return\n",
    "    cons = ({'type':'eq','fun': check_sum},\n",
    "            {'type':'eq','fun': lambda w: get_ret_vol_sr(w)[0] - possible_return})\n",
    "    \n",
    "    result = minimize(minimize_volatility,init_guess,method='SLSQP',bounds=bounds,constraints=cons)\n",
    "    \n",
    "    frontier_volatility.append(result['fun'])"
   ]
  },
  {
   "cell_type": "code",
   "execution_count": 45,
   "metadata": {
    "colab": {
     "base_uri": "https://localhost:8080/",
     "height": 497
    },
    "colab_type": "code",
    "executionInfo": {
     "elapsed": 32141,
     "status": "ok",
     "timestamp": 1590627716159,
     "user": {
      "displayName": "Danilo Ribeiro de Lima",
      "photoUrl": "",
      "userId": "05842338070953503285"
     },
     "user_tz": 180
    },
    "id": "BxpPT9H1ykGF",
    "outputId": "793ce29a-b574-4c32-c678-a0c45a46c07e"
   },
   "outputs": [
    {
     "data": {
      "image/png": "[encoded data removed]",
      "text/plain": [
       "<Figure size 864x576 with 2 Axes>"
      ]
     },
     "metadata": {
      "needs_background": "light"
     },
     "output_type": "display_data"
    }
   ],
   "source": [
    "plt.figure(figsize=(12,8))\n",
    "plt.scatter(vol_arr,ret_arr,c=sharpe_arr,cmap='plasma')\n",
    "plt.colorbar(label='Sharpe Ratio')\n",
    "plt.xlabel('Volatility')\n",
    "plt.ylabel('Return')\n",
    "\n",
    "\n",
    "\n",
    "# Add frontier line\n",
    "plt.plot(frontier_volatility,frontier_y,'g--',linewidth=3);"
   ]
  }
 ],
 "metadata": {
  "colab": {
   "authorship_tag": "ABX9TyOEGd7DXL0Zl8HAmu0Rdb4a",
   "collapsed_sections": [],
   "name": "Any portfolio optimization.ipynb",
   "provenance": []
  },
  "kernelspec": {
   "display_name": "Python 3",
   "language": "python",
   "name": "python3"
  },
  "language_info": {
   "codemirror_mode": {
    "name": "ipython",
    "version": 3
   },
   "file_extension": ".py",
   "mimetype": "text/x-python",
   "name": "python",
   "nbconvert_exporter": "python",
   "pygments_lexer": "ipython3",
   "version": "3.8.5"
  }
 },
 "nbformat": 4,
 "nbformat_minor": 4
}
